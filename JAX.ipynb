{
 "cells": [
  {
   "cell_type": "code",
   "execution_count": 3,
   "id": "65394ca5-43a5-4d58-b0e0-0f396e49a418",
   "metadata": {},
   "outputs": [],
   "source": [
    "import jax.numpy as jnp\n",
    "from jax import grad, jit, vmap\n",
    "from jax import random"
   ]
  },
  {
   "cell_type": "markdown",
   "id": "da215a19-fc7d-4b47-bf75-6f29df0153a9",
   "metadata": {},
   "source": [
    "## Multiplying Matrices"
   ]
  },
  {
   "cell_type": "code",
   "execution_count": 4,
   "id": "1aa12fb1-4b7a-4ca4-b264-078a15b8c79c",
   "metadata": {},
   "outputs": [
    {
     "name": "stderr",
     "output_type": "stream",
     "text": [
      "No GPU/TPU found, falling back to CPU. (Set TF_CPP_MIN_LOG_LEVEL=0 and rerun for more info.)\n"
     ]
    },
    {
     "name": "stdout",
     "output_type": "stream",
     "text": [
      "[-0.3721109   0.26423115 -0.18252768 -0.7368197  -0.44030377 -0.1521442\n",
      " -0.67135346 -0.5908641   0.73168886  0.5673026 ]\n"
     ]
    }
   ],
   "source": [
    "key = random.PRNGKey(0)\n",
    "x = random.normal(key,(10,))\n",
    "print(x)"
   ]
  },
  {
   "cell_type": "code",
   "execution_count": 5,
   "id": "747786df-b58e-43f0-8816-24e1ad0ed81d",
   "metadata": {},
   "outputs": [
    {
     "name": "stdout",
     "output_type": "stream",
     "text": [
      "752 ms ± 30.3 ms per loop (mean ± std. dev. of 7 runs, 1 loop each)\n"
     ]
    }
   ],
   "source": [
    "size = 3000\n",
    "x = random.normal(key,(size,size),dtype=jnp.float32)\n",
    "%timeit jnp.dot(x,x.T).block_until_ready()"
   ]
  },
  {
   "cell_type": "code",
   "execution_count": 6,
   "id": "451d918f-497d-4207-b2e3-4dd4caaa867e",
   "metadata": {},
   "outputs": [],
   "source": [
    "import numpy as np"
   ]
  },
  {
   "cell_type": "code",
   "execution_count": 7,
   "id": "32c03dbc-f986-42dd-8e5c-55a87a1aab69",
   "metadata": {},
   "outputs": [
    {
     "name": "stdout",
     "output_type": "stream",
     "text": [
      "667 ms ± 53.5 ms per loop (mean ± std. dev. of 7 runs, 1 loop each)\n"
     ]
    }
   ],
   "source": [
    "x = np.random.normal(size=(size, size)).astype(np.float32)\n",
    "%timeit jnp.dot(x, x.T).block_until_ready()"
   ]
  },
  {
   "cell_type": "markdown",
   "id": "13202bcf-70e1-48ba-a220-51797d2f8a94",
   "metadata": {},
   "source": [
    "## Notes\n",
    "\n",
    "* jit() for speeding up your code\n",
    "* grad() for taking derivatives\n",
    "* vmap() for automatic vectorization or batching"
   ]
  },
  {
   "cell_type": "markdown",
   "id": "18bece8a-f33d-47d3-a148-3f443d377b16",
   "metadata": {},
   "source": [
    "## jit()"
   ]
  },
  {
   "cell_type": "code",
   "execution_count": 8,
   "id": "1390ae55-f6e1-4f1f-9781-97ada04c96bc",
   "metadata": {},
   "outputs": [
    {
     "name": "stdout",
     "output_type": "stream",
     "text": [
      "8.56 ms ± 996 µs per loop (mean ± std. dev. of 7 runs, 1 loop each)\n"
     ]
    }
   ],
   "source": [
    "def selu(x, alpha=1.67, lmbda=1.05):\n",
    "    return lmbda*jnp.where(x>0,x,alpha*jnp.exp(x)-alpha)\n",
    "\n",
    "x = random.normal(key,(1000000,))\n",
    "%timeit selu(x).block_until_ready()"
   ]
  },
  {
   "cell_type": "code",
   "execution_count": 9,
   "id": "e133fb7e-33f8-4e25-bfb8-61c7b370ab6b",
   "metadata": {},
   "outputs": [
    {
     "name": "stdout",
     "output_type": "stream",
     "text": [
      "1.51 ms ± 173 µs per loop (mean ± std. dev. of 7 runs, 1,000 loops each)\n"
     ]
    }
   ],
   "source": [
    "selu_jit =jit(selu)\n",
    "%timeit selu_jit(x).block_until_ready()"
   ]
  },
  {
   "cell_type": "markdown",
   "id": "e54da697-5d9f-4825-84d3-57aa688eb440",
   "metadata": {},
   "source": [
    "## grad()"
   ]
  },
  {
   "cell_type": "code",
   "execution_count": 10,
   "id": "acbe0f92-0069-44a6-8e44-33c005510555",
   "metadata": {},
   "outputs": [
    {
     "name": "stdout",
     "output_type": "stream",
     "text": [
      "22.3 ms ± 4.38 ms per loop (mean ± std. dev. of 7 runs, 1 loop each)\n",
      "9.92 µs ± 1.42 µs per loop (mean ± std. dev. of 7 runs, 100,000 loops each)\n"
     ]
    }
   ],
   "source": [
    "def sum_logistic(x):\n",
    "    return jnp.sum(1.0/(1.0+jnp.exp(-x)))\n",
    "\n",
    "x_small = jnp.arange(3.)\n",
    "derivative_fn = grad(sum_logistic)\n",
    "%timeit derivative_fn(x_small)\n",
    "jit_derivative_fn = jit(derivative_fn)\n",
    "%timeit jit_derivative_fn(x_small)"
   ]
  },
  {
   "cell_type": "code",
   "execution_count": 13,
   "id": "763c6dc7-b25e-479b-bfe1-c6531851d855",
   "metadata": {},
   "outputs": [
    {
     "name": "stdout",
     "output_type": "stream",
     "text": [
      "[0.24998187 0.1965761  0.10502338]\n"
     ]
    }
   ],
   "source": [
    "def first_finite_differences(f, x):\n",
    "    eps = 1e-3\n",
    "    return jnp.array([(f(x + eps * v) - f(x - eps * v)) / (2 * eps)\n",
    "                   for v in jnp.eye(len(x))])\n",
    "\n",
    "\n",
    "print(first_finite_differences(sum_logistic, x_small))"
   ]
  },
  {
   "cell_type": "code",
   "execution_count": 14,
   "id": "c248136c-a7a6-4066-84af-79d15beb0c97",
   "metadata": {},
   "outputs": [
    {
     "name": "stdout",
     "output_type": "stream",
     "text": [
      "-0.0353256\n"
     ]
    }
   ],
   "source": [
    "print(grad(jit(grad(jit(grad(sum_logistic)))))(1.0))"
   ]
  },
  {
   "cell_type": "markdown",
   "id": "672d0e73-f9b0-40bd-9cbc-4967056751a8",
   "metadata": {},
   "source": [
    "For more advance autodiff, you can use jax.vjp() for reverse-mode vector-Jacobian products and jax.jvp() for foward-mode Jacobian-vector products."
   ]
  },
  {
   "cell_type": "code",
   "execution_count": 15,
   "id": "0c305a4f-88c1-417a-b53f-1cd185b44db3",
   "metadata": {},
   "outputs": [],
   "source": [
    "from jax import jacfwd, jacrev\n",
    "def hessian(fun):\n",
    "    return jit(jacfwd(jacrev(fun)))"
   ]
  },
  {
   "cell_type": "markdown",
   "id": "3ff727a3-92b1-4a4a-a396-f79bf1d956c3",
   "metadata": {},
   "source": [
    "## Auto-vectorization with vmap()"
   ]
  },
  {
   "cell_type": "code",
   "execution_count": 26,
   "id": "430e0d9d-0b6b-4bdc-b475-d538eb31a93d",
   "metadata": {},
   "outputs": [],
   "source": [
    "mat = random.normal(key,(150,100))\n",
    "batched_x = random.normal(key, (10,100))\n",
    "\n",
    "def apply_matrix(v):\n",
    "    return jnp.dot(mat,v)"
   ]
  },
  {
   "cell_type": "code",
   "execution_count": 27,
   "id": "a5c9c83a-238a-42fe-9aea-db9f3a466f2c",
   "metadata": {},
   "outputs": [
    {
     "name": "stdout",
     "output_type": "stream",
     "text": [
      "Naively batched\n",
      "5.92 ms ± 188 µs per loop (mean ± std. dev. of 7 runs, 1 loop each)\n"
     ]
    }
   ],
   "source": [
    "def naively_batched_apply_matrix(v_batched):\n",
    "    return jnp.stack([apply_matrix(v) for v in v_batched])\n",
    "\n",
    "print('Naively batched')\n",
    "%timeit naively_batched_apply_matrix(batched_x).block_until_ready()"
   ]
  },
  {
   "cell_type": "code",
   "execution_count": 28,
   "id": "f0ffab33-3894-4320-b9b1-9f9b0303496d",
   "metadata": {},
   "outputs": [
    {
     "name": "stdout",
     "output_type": "stream",
     "text": [
      "Manually batched\n",
      "497 µs ± 74.6 µs per loop (mean ± std. dev. of 7 runs, 1,000 loops each)\n"
     ]
    }
   ],
   "source": [
    "def batched_apply_matrix(v_batched):\n",
    "    return jnp.dot(v_batched,mat.T)\n",
    "\n",
    "print(\"Manually batched\")\n",
    "%timeit batched_apply_matrix(batched_x).block_until_ready()"
   ]
  },
  {
   "cell_type": "code",
   "execution_count": 29,
   "id": "901c9d7b-485f-4fef-b04a-9cc7ff346330",
   "metadata": {},
   "outputs": [
    {
     "name": "stdout",
     "output_type": "stream",
     "text": [
      "Auto-vectorized with vmap\n",
      "115 µs ± 13.7 µs per loop (mean ± std. dev. of 7 runs, 10,000 loops each)\n"
     ]
    }
   ],
   "source": [
    "@jit\n",
    "def vmap_batched_apply_matrix(v_batched):\n",
    "    return vmap(apply_matrix)(v_batched)\n",
    "\n",
    "print(\"Auto-vectorized with vmap\")\n",
    "%timeit vmap_batched_apply_matrix(batched_x).block_until_ready()"
   ]
  },
  {
   "cell_type": "code",
   "execution_count": null,
   "id": "d715b1dd-765b-4b09-92ce-29d3132acefd",
   "metadata": {},
   "outputs": [],
   "source": []
  }
 ],
 "metadata": {
  "kernelspec": {
   "display_name": "Python 3 (ipykernel)",
   "language": "python",
   "name": "python3"
  },
  "language_info": {
   "codemirror_mode": {
    "name": "ipython",
    "version": 3
   },
   "file_extension": ".py",
   "mimetype": "text/x-python",
   "name": "python",
   "nbconvert_exporter": "python",
   "pygments_lexer": "ipython3",
   "version": "3.10.9"
  }
 },
 "nbformat": 4,
 "nbformat_minor": 5
}
