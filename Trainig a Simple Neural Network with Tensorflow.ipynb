{
 "cells": [
  {
   "cell_type": "markdown",
   "id": "f29f5381-1ff7-48c8-a8eb-1384d29240c0",
   "metadata": {},
   "source": [
    "# Training a simple neural network with tensorflow/ datasets Data Loading\n",
    "https://jax.readthedocs.io/en/latest/notebooks/neural_network_with_tfds_data.html"
   ]
  },
  {
   "cell_type": "code",
   "execution_count": 1,
   "id": "4a3e47a3-8be6-4422-8dc2-8f249194536c",
   "metadata": {},
   "outputs": [],
   "source": [
    "import jax.numpy as jnp\n",
    "from jax import grad, jit, vmap\n",
    "from jax import random"
   ]
  },
  {
   "cell_type": "markdown",
   "id": "d0170ab7-0767-4730-bcc0-0f8848b746de",
   "metadata": {},
   "source": [
    "## Hyperparameters"
   ]
  },
  {
   "cell_type": "code",
   "execution_count": 4,
   "id": "fae4c4d2-3f57-4503-a8e2-c1c6c820ddef",
   "metadata": {},
   "outputs": [
    {
     "name": "stderr",
     "output_type": "stream",
     "text": [
      "No GPU/TPU found, falling back to CPU. (Set TF_CPP_MIN_LOG_LEVEL=0 and rerun for more info.)\n"
     ]
    }
   ],
   "source": [
    "# A helper function to randomly initialize weights and biases\n",
    "# for a dense neural network layer\n",
    "\n",
    "def random_layer_params(m,n,key,scale=1e-2):\n",
    "    w_key, b_key = random.split(key)\n",
    "    return scale*random.normal(w_key,(n,m)) , scale * random.normal(b_key,(n,))\n",
    "\n",
    "# Initialize all layers for a fully-connected neural network with sizes \"sizes\"\n",
    "def init_network_params(sizes, key):\n",
    "    keys = random.split(key, len(sizes))\n",
    "    return [random_layer_params(m,n,k) for m,n,k in zip(sizes[:-1],sizes[1:],keys)]\n",
    "\n",
    "layer_sizes = [784,512,512,10]\n",
    "step_size = 0.01\n",
    "num_epochs = 10\n",
    "batch_size = 128\n",
    "n_targets = 10\n",
    "params = init_network_params(layer_sizes, random.PRNGKey(0))"
   ]
  },
  {
   "cell_type": "code",
   "execution_count": null,
   "id": "f750c20d-6369-4260-beae-5ee8d4dbe508",
   "metadata": {},
   "outputs": [],
   "source": []
  }
 ],
 "metadata": {
  "kernelspec": {
   "display_name": "Python 3 (ipykernel)",
   "language": "python",
   "name": "python3"
  },
  "language_info": {
   "codemirror_mode": {
    "name": "ipython",
    "version": 3
   },
   "file_extension": ".py",
   "mimetype": "text/x-python",
   "name": "python",
   "nbconvert_exporter": "python",
   "pygments_lexer": "ipython3",
   "version": "3.10.9"
  }
 },
 "nbformat": 4,
 "nbformat_minor": 5
}
